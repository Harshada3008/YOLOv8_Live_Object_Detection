{
 "cells": [
  {
   "cell_type": "code",
   "execution_count": 1,
   "id": "7330a0b2-e1ca-4fea-bffc-fb05fa20bc7c",
   "metadata": {},
   "outputs": [
    {
     "ename": "ModuleNotFoundError",
     "evalue": "No module named 'ultralytics'",
     "output_type": "error",
     "traceback": [
      "\u001b[1;31m---------------------------------------------------------------------------\u001b[0m",
      "\u001b[1;31mModuleNotFoundError\u001b[0m                       Traceback (most recent call last)",
      "Cell \u001b[1;32mIn[1], line 5\u001b[0m\n\u001b[0;32m      3\u001b[0m \u001b[38;5;28;01mimport\u001b[39;00m \u001b[38;5;21;01mos\u001b[39;00m\n\u001b[0;32m      4\u001b[0m \u001b[38;5;28;01mfrom\u001b[39;00m \u001b[38;5;21;01mpathlib\u001b[39;00m \u001b[38;5;28;01mimport\u001b[39;00m Path\n\u001b[1;32m----> 5\u001b[0m \u001b[38;5;28;01mfrom\u001b[39;00m \u001b[38;5;21;01multralytics\u001b[39;00m \u001b[38;5;28;01mimport\u001b[39;00m YOLO\n\u001b[0;32m      7\u001b[0m \u001b[38;5;28;01mdef\u001b[39;00m \u001b[38;5;21mopen_camera\u001b[39m(preferred_index\u001b[38;5;241m=\u001b[39m\u001b[38;5;241m0\u001b[39m):\n\u001b[0;32m      8\u001b[0m     \u001b[38;5;66;03m# Try a few indices in case 0 isn't your webcam\u001b[39;00m\n\u001b[0;32m      9\u001b[0m     tried \u001b[38;5;241m=\u001b[39m []\n",
      "\u001b[1;31mModuleNotFoundError\u001b[0m: No module named 'ultralytics'"
     ]
    }
   ],
   "source": [
    "import cv2\n",
    "import time\n",
    "import os\n",
    "from pathlib import Path\n",
    "from ultralytics import YOLO\n",
    "\n",
    "def open_camera(preferred_index=0):\n",
    "    # Try a few indices in case 0 isn't your webcam\n",
    "    tried = []\n",
    "    for idx in [preferred_index, 1, 2, 3]:\n",
    "        cap = cv2.VideoCapture(idx, cv2.CAP_DSHOW) if cv2.__version__.startswith(\"4\") else cv2.VideoCapture(idx)\n",
    "        if cap.isOpened():\n",
    "            return cap, idx\n",
    "        tried.append(idx)\n",
    "        if cap:\n",
    "            cap.release()\n",
    "    raise RuntimeError(f\"Could not open any webcam. Tried indices: {tried}\")\n",
    "\n",
    "def put_text(img, text, org=(10, 30)):\n",
    "    cv2.putText(img, text, org, cv2.FONT_HERSHEY_SIMPLEX, 0.8, (255, 255, 255), 2, cv2.LINE_AA)\n",
    "\n",
    "def main():\n",
    "    # Load YOLOv8 small/fast model (auto-downloads on first use)\n",
    "    model = YOLO(\"yolov8n.pt\")  # change to 'yolov8s.pt' for more accuracy if your PC is strong\n",
    "\n",
    "    # Open camera\n",
    "    cap, cam_idx = open_camera(0)\n",
    "    # Optional: set a reasonable resolution for speed\n",
    "    cap.set(cv2.CAP_PROP_FRAME_WIDTH,  1280)\n",
    "    cap.set(cv2.CAP_PROP_FRAME_HEIGHT, 720)\n",
    "\n",
    "    print(f\"[INFO] Using camera index: {cam_idx}\")\n",
    "    print(\"[INFO] Press 'q' to quit, 's' to save a snapshot.\")\n",
    "\n",
    "    # Prepare snapshot folder\n",
    "    out_dir = Path(\"runs/snapshots\")\n",
    "    out_dir.mkdir(parents=True, exist_ok=True)\n",
    "\n",
    "    prev_time = time.time()\n",
    "    fps = 0.0\n",
    "    frame_count = 0\n",
    "\n",
    "    try:\n",
    "        while True:\n",
    "            ok, frame = cap.read()\n",
    "            if not ok:\n",
    "                print(\"[WARN] Failed to read from camera. Exiting.\")\n",
    "                break\n",
    "\n",
    "            # Inference (set conf to adjust threshold; imgsz for speed/quality tradeoff)\n",
    "            results = model.predict(source=frame, conf=0.25, imgsz=640, verbose=False)\n",
    "            annotated = results[0].plot()  # draw boxes/labels\n",
    "\n",
    "            # FPS (smoothed)\n",
    "            now = time.time()\n",
    "            frame_count += 1\n",
    "            dt = now - prev_time\n",
    "            if dt >= 0.5:  # update FPS every 0.5s\n",
    "                fps = frame_count / dt\n",
    "                frame_count = 0\n",
    "                prev_time = now\n",
    "\n",
    "            put_text(annotated, f\"FPS: {fps:.1f}\", (10, 30))\n",
    "            put_text(annotated, \"Press 'q' to quit, 's' to save\", (10, 60))\n",
    "\n",
    "            cv2.imshow(\"YOLOv8 Live Detection\", annotated)\n",
    "            key = cv2.waitKey(1) & 0xFF\n",
    "\n",
    "            if key == ord('q'):\n",
    "                break\n",
    "            elif key == ord('s'):\n",
    "                ts = time.strftime(\"%Y%m%d-%H%M%S\")\n",
    "                save_path = out_dir / f\"snapshot_{ts}.jpg\"\n",
    "                cv2.imwrite(str(save_path), annotated)\n",
    "                print(f\"[INFO] Saved {save_path}\")\n",
    "\n",
    "    except KeyboardInterrupt:\n",
    "        pass\n",
    "    finally:\n",
    "        cap.release()\n",
    "        cv2.destroyAllWindows()\n",
    "\n",
    "if __name__ == \"__main__\":\n",
    "    # Make sure environment variable to disable OpenMP duplicate warning on some systems\n",
    "    os.environ.setdefault(\"KMP_DUPLICATE_LIB_OK\", \"TRUE\")\n",
    "    main()"
   ]
  },
  {
   "cell_type": "code",
   "execution_count": null,
   "id": "a236320f-afac-48a4-8c7b-d147923891c4",
   "metadata": {},
   "outputs": [],
   "source": [
    "!pip install ultralytics\n"
   ]
  },
  {
   "cell_type": "code",
   "execution_count": null,
   "id": "0a592b3e-554f-4da8-a611-4e89eb3a8290",
   "metadata": {},
   "outputs": [],
   "source": []
  },
  {
   "cell_type": "code",
   "execution_count": null,
   "id": "4f239a93-5b77-482e-8a61-ef99d86c2d62",
   "metadata": {},
   "outputs": [],
   "source": []
  }
 ],
 "metadata": {
  "kernelspec": {
   "display_name": "Python 3 (ipykernel)",
   "language": "python",
   "name": "python3"
  },
  "language_info": {
   "codemirror_mode": {
    "name": "ipython",
    "version": 3
   },
   "file_extension": ".py",
   "mimetype": "text/x-python",
   "name": "python",
   "nbconvert_exporter": "python",
   "pygments_lexer": "ipython3",
   "version": "3.12.7"
  }
 },
 "nbformat": 4,
 "nbformat_minor": 5
}
